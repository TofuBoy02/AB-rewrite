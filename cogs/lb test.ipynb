{
 "cells": [
  {
   "cell_type": "code",
   "execution_count": 17,
   "metadata": {},
   "outputs": [],
   "source": [
    "import os\n",
    "import discord\n",
    "from discord.ext import commands\n",
    "from dotenv import load_dotenv\n",
    "load_dotenv()\n",
    "import pyrebase\n",
    "from urllib.request import Request, urlopen\n",
    "import genshin\n",
    "import asyncio\n",
    "import time"
   ]
  },
  {
   "cell_type": "code",
   "execution_count": 4,
   "metadata": {},
   "outputs": [],
   "source": [
    "service = {\n",
    "    \n",
    "  \"type\": \"service_account\",\n",
    "  \"project_id\": os.getenv('project_id'),\n",
    "  \"private_key_id\": os.getenv('private_key_id'),\n",
    "  \"private_key\": os.getenv('private_key'),\n",
    "  \"client_email\": os.getenv('client_email'),\n",
    "  \"client_id\": os.getenv('client_id'),\n",
    "  \"auth_uri\": os.getenv('auth_uri'),\n",
    "  \"token_uri\": os.getenv('token_uri'),\n",
    "  \"auth_provider_x509_cert_url\": os.getenv('auth_provider_x509_cert_url'),\n",
    "  \"client_x509_cert_url\": os.getenv('client_x509_cert_url')\n",
    "}\n",
    "\n",
    "config = {\n",
    "    'apiKey': os.getenv('apiKey'),\n",
    "    'authDomain': os.getenv('authDomain'),\n",
    "    'projectId': os.getenv('projectId'),\n",
    "    'storageBucket': os.getenv('storageBucket'),\n",
    "    'messagingSenderId': os.getenv('messagingSenderId'),\n",
    "    'appId': os.getenv('appId'),\n",
    "    'measurementId': os.getenv('measurementId'),\n",
    "    'databaseURL': os.getenv('databaseURL'),\n",
    "    \"serviceAccount\": service\n",
    "\n",
    "} \n",
    "\n",
    "firebase = pyrebase.initialize_app(config)\n",
    "database = firebase.database()"
   ]
  },
  {
   "cell_type": "code",
   "execution_count": 18,
   "metadata": {},
   "outputs": [
    {
     "name": "stdout",
     "output_type": "stream",
     "text": [
      "717320812\n",
      "829683499\n",
      "600826455\n",
      "805151235\n",
      "Invalid cookies\n",
      "837354711\n",
      "813180074\n",
      "831749169\n",
      "829926891\n",
      "617266917\n",
      "820283891\n",
      "629283227\n",
      "826460246\n",
      "820283891\n",
      "Invalid cookies\n",
      "717196390\n",
      "818374473\n",
      "818374473\n",
      "828367929\n",
      "849643736\n"
     ]
    }
   ],
   "source": [
    "def get_all_user():\n",
    "    data = database.child(\"boon\").child(\"notes\").child(\"users\").get().val()\n",
    "    return data\n",
    "\n",
    "all_users = get_all_user()\n",
    "\n",
    "def get_user_ltoken(id, data):\n",
    "    ltoken = data[id][\"ltoken\"]\n",
    "    return ltoken\n",
    "\n",
    "def get_user_ltuid(id, data):\n",
    "    ltuid = data[id][\"ltuid\"]\n",
    "    return ltuid\n",
    "\n",
    "def get_user_uid(id, data):\n",
    "    uid = data[id][\"uid\"]\n",
    "    return uid\n",
    "\n",
    "async def get_user_stats(ltoken, ltuid, uid):\n",
    "    gc = genshin.Client(f\"ltoken={ltoken}; ltuid={ltuid}\")\n",
    "    genshin_stats = await gc.get_genshin_user(uid)\n",
    "    anemoculus = genshin_stats.stats.anemoculi\n",
    "    geoculus = genshin_stats.stats.geoculi\n",
    "    electroculus = genshin_stats.stats.electroculi\n",
    "    dendroculus = genshin_stats.stats.dendroculi\n",
    "    return [anemoculus, geoculus, electroculus, dendroculus]\n",
    "\n",
    "for user in all_users: \n",
    "    try:\n",
    "        ltoken = get_user_ltoken(id = user, data = all_users)\n",
    "        ltuid = get_user_ltuid(id = user, data = all_users)\n",
    "        uid = get_user_uid(id = user, data = all_users)\n",
    "        user_stats = await get_user_stats(ltoken = ltoken, ltuid = ltuid, uid = uid)\n",
    "        data = {\"anemoculi\": user_stats[0],\n",
    "                \"geoculi\": user_stats[1],\n",
    "                \"electroculi\": user_stats[2],\n",
    "                \"dendroculi\": user_stats[3],\n",
    "                \"total\": sum(user_stats)}\n",
    "        # print(user, data)\n",
    "        database.child(\"boon\").child(\"notes\").child(\"lb\").child(user).update(data)\n",
    "        time.sleep(0.5)\n",
    "        print(f\"{uid}\")\n",
    "    except:\n",
    "        print(\"Invalid cookies\")\n",
    "\n",
    "\n",
    "    "
   ]
  },
  {
   "cell_type": "code",
   "execution_count": 19,
   "metadata": {},
   "outputs": [
    {
     "name": "stdout",
     "output_type": "stream",
     "text": [
      "16\n"
     ]
    }
   ],
   "source": [
    "def get_lb():\n",
    "    data = database.child(\"boon\").child(\"notes\").child(\"lb\").get().val()\n",
    "    return data\n",
    "\n",
    "user = \"459655669889630209\"\n",
    "\n",
    "def get_rank():\n",
    "    rank = 1\n",
    "    for key in sorted_data.keys():\n",
    "        if key == user:\n",
    "            break\n",
    "        rank += 1\n",
    "    return rank\n",
    "\n",
    "\n",
    "from collections import OrderedDict\n",
    "\n",
    "data = get_lb()\n",
    "\n",
    "try:\n",
    "    sorted_data = OrderedDict(sorted(data.items(), key=lambda x: x[1]['total'], reverse=True))\n",
    "    rank = get_rank()\n",
    "    print(rank)\n",
    "except Exception as e:\n",
    "    print(e)\n"
   ]
  }
 ],
 "metadata": {
  "kernelspec": {
   "display_name": "Python 3",
   "language": "python",
   "name": "python3"
  },
  "language_info": {
   "codemirror_mode": {
    "name": "ipython",
    "version": 3
   },
   "file_extension": ".py",
   "mimetype": "text/x-python",
   "name": "python",
   "nbconvert_exporter": "python",
   "pygments_lexer": "ipython3",
   "version": "3.9.0"
  },
  "orig_nbformat": 4,
  "vscode": {
   "interpreter": {
    "hash": "81794d4967e6c3204c66dcd87b604927b115b27c00565d3d43f05ba2f3a2cb0d"
   }
  }
 },
 "nbformat": 4,
 "nbformat_minor": 2
}
